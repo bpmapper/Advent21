{
 "cells": [
  {
   "cell_type": "code",
   "execution_count": 324,
   "metadata": {},
   "outputs": [],
   "source": [
    "import pandas as pd\n",
    "import numpy as np\n",
    "\n",
    "import warnings\n",
    "warnings.simplefilter(action='ignore', category=FutureWarning)"
   ]
  },
  {
   "cell_type": "markdown",
   "metadata": {},
   "source": [
    "### https://adventofcode.com/2021/day/1"
   ]
  },
  {
   "cell_type": "code",
   "execution_count": 325,
   "metadata": {},
   "outputs": [
    {
     "data": {
      "text/html": [
       "<div>\n",
       "<style scoped>\n",
       "    .dataframe tbody tr th:only-of-type {\n",
       "        vertical-align: middle;\n",
       "    }\n",
       "\n",
       "    .dataframe tbody tr th {\n",
       "        vertical-align: top;\n",
       "    }\n",
       "\n",
       "    .dataframe thead th {\n",
       "        text-align: right;\n",
       "    }\n",
       "</style>\n",
       "<table border=\"1\" class=\"dataframe\">\n",
       "  <thead>\n",
       "    <tr style=\"text-align: right;\">\n",
       "      <th></th>\n",
       "      <th>val</th>\n",
       "    </tr>\n",
       "  </thead>\n",
       "  <tbody>\n",
       "    <tr>\n",
       "      <th>1995</th>\n",
       "      <td>9830</td>\n",
       "    </tr>\n",
       "    <tr>\n",
       "      <th>1996</th>\n",
       "      <td>9831</td>\n",
       "    </tr>\n",
       "    <tr>\n",
       "      <th>1997</th>\n",
       "      <td>9841</td>\n",
       "    </tr>\n",
       "    <tr>\n",
       "      <th>1998</th>\n",
       "      <td>9860</td>\n",
       "    </tr>\n",
       "    <tr>\n",
       "      <th>1999</th>\n",
       "      <td>9875</td>\n",
       "    </tr>\n",
       "  </tbody>\n",
       "</table>\n",
       "</div>"
      ],
      "text/plain": [
       "       val\n",
       "1995  9830\n",
       "1996  9831\n",
       "1997  9841\n",
       "1998  9860\n",
       "1999  9875"
      ]
     },
     "execution_count": 325,
     "metadata": {},
     "output_type": "execute_result"
    }
   ],
   "source": [
    "# read in depths\n",
    "\n",
    "df1=pd.read_csv('day1_1.txt', header=None)\n",
    "df1.columns=['val']\n",
    "df1.tail()"
   ]
  },
  {
   "cell_type": "code",
   "execution_count": 326,
   "metadata": {},
   "outputs": [
    {
     "data": {
      "text/plain": [
       "increase    1722\n",
       "x            278\n",
       "Name: result1, dtype: int64"
      ]
     },
     "execution_count": 326,
     "metadata": {},
     "output_type": "execute_result"
    }
   ],
   "source": [
    "# Part 1 - calc diff from previous value\n",
    "df1['calc1']=df1.val-df1.val.shift(1)\n",
    "df1['result1']=df1.calc1.apply(lambda x:'increase' if x>0 else 'x')\n",
    "df1.result1.value_counts()"
   ]
  },
  {
   "cell_type": "code",
   "execution_count": 327,
   "metadata": {},
   "outputs": [
    {
     "data": {
      "text/plain": [
       "increase    1748\n",
       "x            252\n",
       "Name: result2, dtype: int64"
      ]
     },
     "execution_count": 327,
     "metadata": {},
     "output_type": "execute_result"
    }
   ],
   "source": [
    "# Part 2 - create column of rolling sum of 3 then calc diffs\n",
    "df1['three']=df1.val + df1.val.shift(-1) + df1.val.shift(-2)\n",
    "df1['calc2']=df1.three-df1.three.shift(1)\n",
    "df1['result2']=df1.calc2.apply(lambda x:'increase' if x>0 else 'x')\n",
    "df1.result2.value_counts()"
   ]
  },
  {
   "cell_type": "markdown",
   "metadata": {},
   "source": [
    "### https://adventofcode.com/2021/day/2"
   ]
  },
  {
   "cell_type": "code",
   "execution_count": 328,
   "metadata": {},
   "outputs": [
    {
     "data": {
      "text/html": [
       "<div>\n",
       "<style scoped>\n",
       "    .dataframe tbody tr th:only-of-type {\n",
       "        vertical-align: middle;\n",
       "    }\n",
       "\n",
       "    .dataframe tbody tr th {\n",
       "        vertical-align: top;\n",
       "    }\n",
       "\n",
       "    .dataframe thead th {\n",
       "        text-align: right;\n",
       "    }\n",
       "</style>\n",
       "<table border=\"1\" class=\"dataframe\">\n",
       "  <thead>\n",
       "    <tr style=\"text-align: right;\">\n",
       "      <th></th>\n",
       "      <th>val</th>\n",
       "    </tr>\n",
       "  </thead>\n",
       "  <tbody>\n",
       "    <tr>\n",
       "      <th>995</th>\n",
       "      <td>forward 9</td>\n",
       "    </tr>\n",
       "    <tr>\n",
       "      <th>996</th>\n",
       "      <td>down 3</td>\n",
       "    </tr>\n",
       "    <tr>\n",
       "      <th>997</th>\n",
       "      <td>down 7</td>\n",
       "    </tr>\n",
       "    <tr>\n",
       "      <th>998</th>\n",
       "      <td>down 5</td>\n",
       "    </tr>\n",
       "    <tr>\n",
       "      <th>999</th>\n",
       "      <td>forward 7</td>\n",
       "    </tr>\n",
       "  </tbody>\n",
       "</table>\n",
       "</div>"
      ],
      "text/plain": [
       "           val\n",
       "995  forward 9\n",
       "996     down 3\n",
       "997     down 7\n",
       "998     down 5\n",
       "999  forward 7"
      ]
     },
     "execution_count": 328,
     "metadata": {},
     "output_type": "execute_result"
    }
   ],
   "source": [
    "df2=pd.read_csv('day2.txt', header=None)\n",
    "df2.columns=['val']\n",
    "df2.tail()"
   ]
  },
  {
   "cell_type": "code",
   "execution_count": 329,
   "metadata": {},
   "outputs": [
    {
     "data": {
      "text/html": [
       "<div>\n",
       "<style scoped>\n",
       "    .dataframe tbody tr th:only-of-type {\n",
       "        vertical-align: middle;\n",
       "    }\n",
       "\n",
       "    .dataframe tbody tr th {\n",
       "        vertical-align: top;\n",
       "    }\n",
       "\n",
       "    .dataframe thead th {\n",
       "        text-align: right;\n",
       "    }\n",
       "</style>\n",
       "<table border=\"1\" class=\"dataframe\">\n",
       "  <thead>\n",
       "    <tr style=\"text-align: right;\">\n",
       "      <th></th>\n",
       "      <th>instr</th>\n",
       "      <th>tot</th>\n",
       "    </tr>\n",
       "  </thead>\n",
       "  <tbody>\n",
       "    <tr>\n",
       "      <th>0</th>\n",
       "      <td>down</td>\n",
       "      <td>2046.0</td>\n",
       "    </tr>\n",
       "    <tr>\n",
       "      <th>1</th>\n",
       "      <td>forward</td>\n",
       "      <td>1990.0</td>\n",
       "    </tr>\n",
       "    <tr>\n",
       "      <th>2</th>\n",
       "      <td>up</td>\n",
       "      <td>1046.0</td>\n",
       "    </tr>\n",
       "  </tbody>\n",
       "</table>\n",
       "</div>"
      ],
      "text/plain": [
       "     instr     tot\n",
       "0     down  2046.0\n",
       "1  forward  1990.0\n",
       "2       up  1046.0"
      ]
     },
     "execution_count": 329,
     "metadata": {},
     "output_type": "execute_result"
    }
   ],
   "source": [
    "# split instructions and values - group and sum\n",
    "df2['instr']=df2.val.apply(lambda x:x.split(' ')[0])\n",
    "df2['num']=df2.val.apply(lambda x:float(x.split(' ')[1]))\n",
    "dfx=pd.DataFrame(df2.groupby('instr').num.sum().reset_index(name='tot'))\n",
    "dfx"
   ]
  },
  {
   "cell_type": "code",
   "execution_count": 330,
   "metadata": {},
   "outputs": [
    {
     "data": {
      "text/plain": [
       "1990000.0"
      ]
     },
     "execution_count": 330,
     "metadata": {},
     "output_type": "execute_result"
    }
   ],
   "source": [
    "((dfx[dfx.instr=='down'].tot.values-dfx[dfx.instr=='up'].tot.values) * dfx[dfx.instr=='forward'].tot.values)[0]"
   ]
  },
  {
   "cell_type": "code",
   "execution_count": 331,
   "metadata": {},
   "outputs": [
    {
     "name": "stdout",
     "output_type": "stream",
     "text": [
      "1990.0 992674.0 1975421260.0\n"
     ]
    }
   ],
   "source": [
    "# part 2 - brute force  loop through and calc values at each stage\n",
    "\n",
    "aim=0\n",
    "h=0\n",
    "d=0\n",
    "for idx, row in df2.iterrows():\n",
    "    if row.instr == 'up':\n",
    "        aim-=row.num \n",
    "    if row.instr == 'down':\n",
    "        aim+=row.num\n",
    "    if row.instr == 'forward':\n",
    "        h+=row.num\n",
    "        d+=aim * row.num\n",
    "\n",
    "print(h, d, h*d)"
   ]
  },
  {
   "cell_type": "markdown",
   "metadata": {},
   "source": [
    "### https://adventofcode.com/2021/day/3"
   ]
  },
  {
   "cell_type": "code",
   "execution_count": 332,
   "metadata": {},
   "outputs": [],
   "source": [
    "# read in and convert to dec\n",
    "\n",
    "df3=pd.read_csv('day3.txt',header=None)\n",
    "df3.columns=['bin']\n",
    "df3['dec']=df3.bin.apply(lambda x:int(str(x),2))\n",
    "dfT=df3.sort_values('dec',ascending=False)[:5]"
   ]
  },
  {
   "cell_type": "code",
   "execution_count": 333,
   "metadata": {},
   "outputs": [
    {
     "data": {
      "text/plain": [
       "4095"
      ]
     },
     "execution_count": 333,
     "metadata": {},
     "output_type": "execute_result"
    }
   ],
   "source": [
    "# epsilon = 111111.. - gamma\n",
    "maxno=2**12-1\n",
    "maxno"
   ]
  },
  {
   "cell_type": "code",
   "execution_count": 334,
   "metadata": {},
   "outputs": [
    {
     "data": {
      "text/plain": [
       "4118544"
      ]
     },
     "execution_count": 334,
     "metadata": {},
     "output_type": "execute_result"
    }
   ],
   "source": [
    "# find gamma - loop through 2**0 t0 2**11 and do bitwise comparison of dec values\n",
    "\n",
    "def bitand(dnum,n):\n",
    "    if dnum & 2**n !=0:\n",
    "        return 1\n",
    "    else:\n",
    "        return 0\n",
    "\n",
    "gamma=0\n",
    "for i in range(12):\n",
    "    bits=df3.dec.apply(bitand, n=i).sum()\n",
    "    if bits>500:\n",
    "        gamma+=2**i\n",
    "\n",
    "eps=maxno-gamma\n",
    "gamma*eps"
   ]
  },
  {
   "cell_type": "code",
   "execution_count": 335,
   "metadata": {},
   "outputs": [
    {
     "name": "stdout",
     "output_type": "stream",
     "text": [
      "1527 2510 3832770\n"
     ]
    }
   ],
   "source": [
    "# Part 2 - order is reversed compared to part 1\n",
    "\n",
    "# oxygen 1\n",
    "\n",
    "df=df3.copy()\n",
    "for i in range(11,-1,-1):\n",
    "    bit=df.dec.apply(bitand, n=i)\n",
    "    if bit.sum()/len(df) >= .5:\n",
    "        df=df[bit==1]\n",
    "    else:\n",
    "        df=df[bit==0]\n",
    "    \n",
    "    if len(df)==1:\n",
    "        oxygen=df.dec.values[0]\n",
    "        break\n",
    "\n",
    "#  CO2 0\n",
    "df=df3.copy()\n",
    "for i in range(11,-1,-1):\n",
    "    bit=df.dec.apply(bitand, n=i)\n",
    "    if bit.sum()/len(df) <.5:\n",
    "        df=df[bit==1]\n",
    "    else:\n",
    "        df=df[bit!=1]\n",
    "    if len(df)==1:\n",
    "        co2=df.dec.values[0]\n",
    "        break\n",
    "\n",
    "print(oxygen, co2, oxygen*co2)   \n",
    "    "
   ]
  },
  {
   "cell_type": "markdown",
   "metadata": {},
   "source": [
    "## https://adventofcode.com/2021/day/4"
   ]
  },
  {
   "cell_type": "code",
   "execution_count": 336,
   "metadata": {},
   "outputs": [
    {
     "name": "stdout",
     "output_type": "stream",
     "text": [
      "6 69 28 50 36 84 49 13 48 90 1 33 71 0 94 59 53 58 60 96 30 34 29 91 11 41 77 95 17 80 85 93 7 9 74 89 18 25 26 8 87 38 68 5 12 43 27 46 62 73 16 55 22 4 65 76 54 52 83 10 21 67 15 47 45 40 35 66 79 51 75 39 64 24 37 72 3 44 82 32 78 63 57 2 86 31 19 92 14 97 20 56 88 81 70 61 42 99 23 98\n"
     ]
    }
   ],
   "source": [
    "# load in called numbers\n",
    "\n",
    "with open('day4.txt') as f:\n",
    "    numbers=f.readline().replace('\\n','').split(',')\n",
    "print(*numbers)  \n",
    "    "
   ]
  },
  {
   "cell_type": "code",
   "execution_count": 337,
   "metadata": {},
   "outputs": [
    {
     "data": {
      "text/plain": [
       "(500, 5)"
      ]
     },
     "execution_count": 337,
     "metadata": {},
     "output_type": "execute_result"
    }
   ],
   "source": [
    "# load rest of the data into an array\n",
    "\n",
    "data=np.loadtxt(\"day4.txt\", dtype=np.uint8, skiprows=1)\n",
    "data.shape"
   ]
  },
  {
   "cell_type": "code",
   "execution_count": 338,
   "metadata": {},
   "outputs": [
    {
     "data": {
      "text/plain": [
       "array([[[22, 59,  7, 10,  6],\n",
       "        [33, 36, 96, 55, 23],\n",
       "        [13, 85, 18, 29, 28],\n",
       "        [75, 46, 83, 73, 58],\n",
       "        [34, 40, 87, 56, 98]]], dtype=uint8)"
      ]
     },
     "execution_count": 338,
     "metadata": {},
     "output_type": "execute_result"
    }
   ],
   "source": [
    "# reshape into 100 5x5 cards\n",
    "\n",
    "cards=data.copy().reshape(100,5,5)\n",
    "cards[:1]"
   ]
  },
  {
   "cell_type": "code",
   "execution_count": 339,
   "metadata": {},
   "outputs": [
    {
     "name": "stdout",
     "output_type": "stream",
     "text": [
      "91 69\n"
     ]
    }
   ],
   "source": [
    "#  make 100 blank cards and mark with 1 in the corresponding position of each matched nyumber\n",
    "cards=data.reshape(100,5,5)\n",
    "results=np.zeros((100,5,5))\n",
    "for draw in numbers:\n",
    "        draw=int(draw)\n",
    "        results[(np.where(cards==draw))]=1\n",
    "        if  np.any(results.sum(axis=1)==5):\n",
    "            cardnum=np.where(results.sum(axis=1)==5)[0][0]\n",
    "            print(draw, cardnum)\n",
    "            break\n",
    "        if np.any(np.transpose(results).sum(axis=0)==5):\n",
    "            cardnum=np.where(np.transpose(results).sum(axis=0)==5)[0][0]\n",
    "            print(draw, cardnum)\n",
    "            break\n"
   ]
  },
  {
   "cell_type": "code",
   "execution_count": 340,
   "metadata": {},
   "outputs": [
    {
     "data": {
      "text/plain": [
       "71708"
      ]
     },
     "execution_count": 340,
     "metadata": {},
     "output_type": "execute_result"
    }
   ],
   "source": [
    "# sum of winning card numbers not matched times last number drawn\n",
    "(1*np.logical_not(results[cardnum])*cards[cardnum]).sum() * draw"
   ]
  },
  {
   "cell_type": "code",
   "execution_count": 341,
   "metadata": {},
   "outputs": [
    {
     "name": "stdout",
     "output_type": "stream",
     "text": [
      "67\n",
      "86\n",
      "56330\n",
      "9\n",
      "97\n",
      "34726\n"
     ]
    }
   ],
   "source": [
    "wins=[n for n in range(100)]\n",
    "cards=data.reshape(100,5,5)\n",
    "results=np.zeros((100,5,5))\n",
    "for draw in numbers:\n",
    "        draw=int(draw)\n",
    "        results[(np.where(cards==draw))]=1\n",
    "        for f in range(100):\n",
    "                if max(results[f].sum(axis=0))==5 or max(results[f].sum(axis=1))==5:\n",
    "                    remember=results[f].copy()\n",
    "                    results[f]=0\n",
    "                    if len(wins)==1:\n",
    "                        print(f)\n",
    "                        print(draw)\n",
    "                        print((1*np.logical_not(remember)*cards[f]).sum()*draw)\n",
    "                    if f in wins:\n",
    "                        wins.remove(f)\n",
    "                    \n",
    "                    \n",
    "                    \n"
   ]
  },
  {
   "cell_type": "markdown",
   "metadata": {},
   "source": [
    "## https://adventofcode.com/2021/day/5"
   ]
  },
  {
   "cell_type": "code",
   "execution_count": 342,
   "metadata": {},
   "outputs": [
    {
     "data": {
      "text/html": [
       "<div>\n",
       "<style scoped>\n",
       "    .dataframe tbody tr th:only-of-type {\n",
       "        vertical-align: middle;\n",
       "    }\n",
       "\n",
       "    .dataframe tbody tr th {\n",
       "        vertical-align: top;\n",
       "    }\n",
       "\n",
       "    .dataframe thead th {\n",
       "        text-align: right;\n",
       "    }\n",
       "</style>\n",
       "<table border=\"1\" class=\"dataframe\">\n",
       "  <thead>\n",
       "    <tr style=\"text-align: right;\">\n",
       "      <th></th>\n",
       "      <th>a</th>\n",
       "      <th>b</th>\n",
       "      <th>c</th>\n",
       "      <th>d</th>\n",
       "    </tr>\n",
       "  </thead>\n",
       "  <tbody>\n",
       "    <tr>\n",
       "      <th>136</th>\n",
       "      <td>450</td>\n",
       "      <td>86</td>\n",
       "      <td>489</td>\n",
       "      <td>86</td>\n",
       "    </tr>\n",
       "    <tr>\n",
       "      <th>304</th>\n",
       "      <td>809</td>\n",
       "      <td>156</td>\n",
       "      <td>129</td>\n",
       "      <td>836</td>\n",
       "    </tr>\n",
       "    <tr>\n",
       "      <th>200</th>\n",
       "      <td>43</td>\n",
       "      <td>949</td>\n",
       "      <td>945</td>\n",
       "      <td>47</td>\n",
       "    </tr>\n",
       "    <tr>\n",
       "      <th>406</th>\n",
       "      <td>328</td>\n",
       "      <td>289</td>\n",
       "      <td>280</td>\n",
       "      <td>289</td>\n",
       "    </tr>\n",
       "    <tr>\n",
       "      <th>416</th>\n",
       "      <td>188</td>\n",
       "      <td>793</td>\n",
       "      <td>761</td>\n",
       "      <td>793</td>\n",
       "    </tr>\n",
       "  </tbody>\n",
       "</table>\n",
       "</div>"
      ],
      "text/plain": [
       "       a    b    c    d\n",
       "136  450   86  489   86\n",
       "304  809  156  129  836\n",
       "200   43  949  945   47\n",
       "406  328  289  280  289\n",
       "416  188  793  761  793"
      ]
     },
     "execution_count": 342,
     "metadata": {},
     "output_type": "execute_result"
    }
   ],
   "source": [
    "# laod and tidy data\n",
    "df=pd.read_csv('day5.txt', header=None)\n",
    "df.columns=['a','x','d']\n",
    "df['b']=df.x.apply(lambda x:int(x.split('-')[0]))\n",
    "df['c']=df.x.apply(lambda x:int(x.split('>')[1]))\n",
    "df=df[['a','b','c','d']].copy()\n",
    "df.sample(5)"
   ]
  },
  {
   "cell_type": "code",
   "execution_count": 343,
   "metadata": {},
   "outputs": [
    {
     "name": "stdout",
     "output_type": "stream",
     "text": [
      "a    989\n",
      "b    989\n",
      "c    989\n",
      "d    988\n",
      "dtype: int64\n",
      "a    10\n",
      "b    12\n",
      "c    10\n",
      "d    10\n",
      "dtype: int64\n"
     ]
    }
   ],
   "source": [
    "# check dims\n",
    "print(df.max())\n",
    "print( df.min())"
   ]
  },
  {
   "cell_type": "code",
   "execution_count": 344,
   "metadata": {},
   "outputs": [
    {
     "data": {
      "text/plain": [
       "353"
      ]
     },
     "execution_count": 344,
     "metadata": {},
     "output_type": "execute_result"
    }
   ],
   "source": [
    "# horiz and vert only\n",
    "df1=df[(df.a == df.c)|(df.b==df.d)].copy()\n",
    "len(df1)"
   ]
  },
  {
   "cell_type": "code",
   "execution_count": 345,
   "metadata": {},
   "outputs": [
    {
     "data": {
      "text/html": [
       "<div>\n",
       "<style scoped>\n",
       "    .dataframe tbody tr th:only-of-type {\n",
       "        vertical-align: middle;\n",
       "    }\n",
       "\n",
       "    .dataframe tbody tr th {\n",
       "        vertical-align: top;\n",
       "    }\n",
       "\n",
       "    .dataframe thead th {\n",
       "        text-align: right;\n",
       "    }\n",
       "</style>\n",
       "<table border=\"1\" class=\"dataframe\">\n",
       "  <thead>\n",
       "    <tr style=\"text-align: right;\">\n",
       "      <th></th>\n",
       "      <th>a</th>\n",
       "      <th>b</th>\n",
       "      <th>c</th>\n",
       "      <th>d</th>\n",
       "      <th>x</th>\n",
       "      <th>y</th>\n",
       "    </tr>\n",
       "  </thead>\n",
       "  <tbody>\n",
       "    <tr>\n",
       "      <th>251</th>\n",
       "      <td>652</td>\n",
       "      <td>638</td>\n",
       "      <td>652</td>\n",
       "      <td>569</td>\n",
       "      <td>0</td>\n",
       "      <td>-1</td>\n",
       "    </tr>\n",
       "    <tr>\n",
       "      <th>91</th>\n",
       "      <td>375</td>\n",
       "      <td>406</td>\n",
       "      <td>200</td>\n",
       "      <td>406</td>\n",
       "      <td>-1</td>\n",
       "      <td>0</td>\n",
       "    </tr>\n",
       "    <tr>\n",
       "      <th>419</th>\n",
       "      <td>510</td>\n",
       "      <td>254</td>\n",
       "      <td>510</td>\n",
       "      <td>862</td>\n",
       "      <td>0</td>\n",
       "      <td>1</td>\n",
       "    </tr>\n",
       "  </tbody>\n",
       "</table>\n",
       "</div>"
      ],
      "text/plain": [
       "       a    b    c    d  x  y\n",
       "251  652  638  652  569  0 -1\n",
       "91   375  406  200  406 -1  0\n",
       "419  510  254  510  862  0  1"
      ]
     },
     "execution_count": 345,
     "metadata": {},
     "output_type": "execute_result"
    }
   ],
   "source": [
    "df1['x']=np.sign(df1.c-df1.a)\n",
    "df1['y']=np.sign(df1.d-df1.b)\n",
    "df1.sample(3)"
   ]
  },
  {
   "cell_type": "code",
   "execution_count": 346,
   "metadata": {},
   "outputs": [
    {
     "data": {
      "text/plain": [
       "7085"
      ]
     },
     "execution_count": 346,
     "metadata": {},
     "output_type": "execute_result"
    }
   ],
   "source": [
    "\n",
    "res=results=np.zeros((1000,1000))\n",
    "for idx, row in df1.iterrows():\n",
    "    if row.x==1:\n",
    "        for f in range(row.a,1+row.c):\n",
    "            res[f,row.b]+=1\n",
    "    if row.x==-1:\n",
    "        for f in range(row.c,1+row.a):\n",
    "            res[f,row.b]+=1\n",
    "    if row.y==1:\n",
    "        for f in range(row.b,1+row.d):\n",
    "            res[row.a,f]+=1\n",
    "    if row.y==-1:\n",
    "        for f in range(row.d,1+row.b):\n",
    "            res[row.a,f]+=1\n",
    "   \n",
    "(1*(res>1)).sum() "
   ]
  },
  {
   "cell_type": "code",
   "execution_count": 347,
   "metadata": {},
   "outputs": [
    {
     "data": {
      "text/html": [
       "<div>\n",
       "<style scoped>\n",
       "    .dataframe tbody tr th:only-of-type {\n",
       "        vertical-align: middle;\n",
       "    }\n",
       "\n",
       "    .dataframe tbody tr th {\n",
       "        vertical-align: top;\n",
       "    }\n",
       "\n",
       "    .dataframe thead th {\n",
       "        text-align: right;\n",
       "    }\n",
       "</style>\n",
       "<table border=\"1\" class=\"dataframe\">\n",
       "  <thead>\n",
       "    <tr style=\"text-align: right;\">\n",
       "      <th></th>\n",
       "      <th>a</th>\n",
       "      <th>b</th>\n",
       "      <th>c</th>\n",
       "      <th>d</th>\n",
       "      <th>x</th>\n",
       "      <th>y</th>\n",
       "    </tr>\n",
       "  </thead>\n",
       "  <tbody>\n",
       "    <tr>\n",
       "      <th>76</th>\n",
       "      <td>875</td>\n",
       "      <td>930</td>\n",
       "      <td>26</td>\n",
       "      <td>81</td>\n",
       "      <td>-1</td>\n",
       "      <td>-1</td>\n",
       "    </tr>\n",
       "    <tr>\n",
       "      <th>77</th>\n",
       "      <td>875</td>\n",
       "      <td>115</td>\n",
       "      <td>127</td>\n",
       "      <td>863</td>\n",
       "      <td>-1</td>\n",
       "      <td>1</td>\n",
       "    </tr>\n",
       "    <tr>\n",
       "      <th>2</th>\n",
       "      <td>340</td>\n",
       "      <td>734</td>\n",
       "      <td>774</td>\n",
       "      <td>300</td>\n",
       "      <td>1</td>\n",
       "      <td>-1</td>\n",
       "    </tr>\n",
       "  </tbody>\n",
       "</table>\n",
       "</div>"
      ],
      "text/plain": [
       "      a    b    c    d  x  y\n",
       "76  875  930   26   81 -1 -1\n",
       "77  875  115  127  863 -1  1\n",
       "2   340  734  774  300  1 -1"
      ]
     },
     "execution_count": 347,
     "metadata": {},
     "output_type": "execute_result"
    }
   ],
   "source": [
    "\n",
    "dfx=df.merge(df1,how='left')\n",
    "dfd=dfx[dfx.x.isnull()].copy()\n",
    "dfd['x']=np.sign(dfd.c-dfd.a)\n",
    "dfd['y']=np.sign(dfd.d-dfd.b)\n",
    "dfd.sample(3)"
   ]
  },
  {
   "cell_type": "code",
   "execution_count": 348,
   "metadata": {},
   "outputs": [
    {
     "data": {
      "text/plain": [
       "20271"
      ]
     },
     "execution_count": 348,
     "metadata": {},
     "output_type": "execute_result"
    }
   ],
   "source": [
    "\n",
    "for idx, row in dfd.iterrows():\n",
    "    xc=row.a\n",
    "    yc=row.b\n",
    "    for i in range(1+max(row.a,row.c)-min(row.a,row.c)):\n",
    "        res[xc,yc]+=1\n",
    "        xc+=1*row.x\n",
    "        yc+=1*row.y\n",
    "\n",
    "(1*(res>1)).sum() "
   ]
  },
  {
   "cell_type": "markdown",
   "metadata": {},
   "source": [
    "## https://adventofcode.com/2021/day/6"
   ]
  },
  {
   "cell_type": "code",
   "execution_count": 349,
   "metadata": {},
   "outputs": [],
   "source": [
    "with open('day6.txt','r') as f:\n",
    "    s = f.readlines()\n"
   ]
  },
  {
   "cell_type": "code",
   "execution_count": 350,
   "metadata": {
    "scrolled": true
   },
   "outputs": [
    {
     "data": {
      "text/plain": [
       "{'0': 141148347315,\n",
       " '1': 162057469235,\n",
       " '2': 171485519495,\n",
       " '3': 188293726992,\n",
       " '4': 209248181091,\n",
       " '5': 219291507258,\n",
       " '6': 252739136348,\n",
       " '7': 118233178535,\n",
       " '8': 137808935019}"
      ]
     },
     "execution_count": 350,
     "metadata": {},
     "output_type": "execute_result"
    }
   ],
   "source": [
    "# days = 80\n",
    "days = 256\n",
    "\n",
    "dctLantern={}\n",
    "st=len(str(s).split(','))\n",
    "for i in range(0,9):\n",
    "    dctLantern[str(i)]=len(str(s))-len(str(s).replace(str(i),''))\n",
    "\n",
    "    \n",
    "for x in range(256):\n",
    "    dctNextDay={}\n",
    "    \n",
    "    \n",
    "    for i in range(0,8):\n",
    "        dctNextDay[str(i)]=dctLantern[str(i+1)]\n",
    "        val=dctLantern['0']\n",
    "    dctNextDay['8']=val\n",
    "    dctNextDay['6']+=val\n",
    "    dctLantern=dctNextDay\n",
    "\n",
    "dctLantern"
   ]
  },
  {
   "cell_type": "code",
   "execution_count": 351,
   "metadata": {},
   "outputs": [
    {
     "data": {
      "text/plain": [
       "1600306001288"
      ]
     },
     "execution_count": 351,
     "metadata": {},
     "output_type": "execute_result"
    }
   ],
   "source": [
    "tot=0\n",
    "for i in range(9):\n",
    "    tot+=dctLantern[str(i)]\n",
    "\n",
    "tot"
   ]
  },
  {
   "cell_type": "code",
   "execution_count": null,
   "metadata": {},
   "outputs": [],
   "source": []
  },
  {
   "cell_type": "code",
   "execution_count": null,
   "metadata": {},
   "outputs": [],
   "source": []
  }
 ],
 "metadata": {
  "kernelspec": {
   "display_name": "Python 3",
   "language": "python",
   "name": "python3"
  },
  "language_info": {
   "codemirror_mode": {
    "name": "ipython",
    "version": 3
   },
   "file_extension": ".py",
   "mimetype": "text/x-python",
   "name": "python",
   "nbconvert_exporter": "python",
   "pygments_lexer": "ipython3",
   "version": "3.7.3"
  }
 },
 "nbformat": 4,
 "nbformat_minor": 2
}
